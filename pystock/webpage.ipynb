{
 "cells": [
  {
   "cell_type": "code",
   "execution_count": null,
   "metadata": {},
   "outputs": [
    {
     "name": "stdout",
     "output_type": "stream",
     "text": [
      "Collecting dash\n",
      "  Downloading dash-2.15.0-py3-none-any.whl (10.2 MB)\n",
      "Requirement already satisfied: requests in c:\\users\\1166061\\appdata\\local\\programs\\python\\python36-32\\lib\\site-packages (from dash) (2.27.1)\n",
      "Requirement already satisfied: nest-asyncio in c:\\users\\1166061\\appdata\\local\\programs\\python\\python36-32\\lib\\site-packages (from dash) (1.5.6)\n",
      "Collecting plotly>=5.0.0\n",
      "  Downloading plotly-5.18.0-py3-none-any.whl (15.6 MB)\n",
      "Collecting Werkzeug<3.1\n",
      "  Downloading Werkzeug-2.0.3-py3-none-any.whl (289 kB)\n",
      "Collecting dash-html-components==2.0.0\n",
      "  Downloading dash_html_components-2.0.0-py3-none-any.whl (4.1 kB)\n",
      "Collecting dash-table==5.0.0\n",
      "  Downloading dash_table-5.0.0-py3-none-any.whl (3.9 kB)\n",
      "Collecting contextvars==2.4\n",
      "  Downloading contextvars-2.4.tar.gz (9.6 kB)\n",
      "  Preparing metadata (setup.py): started\n",
      "  Preparing metadata (setup.py): finished with status 'done'\n",
      "Requirement already satisfied: importlib-metadata==4.8.3 in c:\\users\\1166061\\appdata\\local\\programs\\python\\python36-32\\lib\\site-packages (from dash) (4.8.3)\n",
      "Requirement already satisfied: setuptools in c:\\users\\1166061\\appdata\\local\\programs\\python\\python36-32\\lib\\site-packages (from dash) (39.0.1)\n",
      "Collecting Flask<3.1,>=1.0.4\n",
      "  Downloading Flask-2.0.3-py3-none-any.whl (95 kB)\n",
      "Collecting dash-core-components==2.0.0\n",
      "  Downloading dash_core_components-2.0.0-py3-none-any.whl (3.8 kB)\n",
      "Collecting retrying\n",
      "  Downloading retrying-1.3.4-py3-none-any.whl (11 kB)\n",
      "Requirement already satisfied: typing-extensions>=4.1.1 in c:\\users\\1166061\\appdata\\local\\programs\\python\\python36-32\\lib\\site-packages (from dash) (4.1.1)\n",
      "Collecting immutables>=0.9\n",
      "  Downloading immutables-0.19.tar.gz (85 kB)\n",
      "  Installing build dependencies: started\n",
      "  Installing build dependencies: finished with status 'done'\n",
      "  Getting requirements to build wheel: started\n",
      "  Getting requirements to build wheel: finished with status 'done'\n",
      "  Preparing metadata (pyproject.toml): started\n",
      "  Preparing metadata (pyproject.toml): finished with status 'done'\n",
      "Requirement already satisfied: zipp>=0.5 in c:\\users\\1166061\\appdata\\local\\programs\\python\\python36-32\\lib\\site-packages (from importlib-metadata==4.8.3->dash) (3.6.0)\n",
      "Collecting itsdangerous>=2.0\n",
      "  Downloading itsdangerous-2.0.1-py3-none-any.whl (18 kB)\n",
      "Requirement already satisfied: Jinja2>=3.0 in c:\\users\\1166061\\appdata\\local\\programs\\python\\python36-32\\lib\\site-packages (from Flask<3.1,>=1.0.4->dash) (3.0.3)\n",
      "Collecting click>=7.1.2\n",
      "  Downloading click-8.0.4-py3-none-any.whl (97 kB)\n",
      "Collecting tenacity>=6.2.0\n",
      "  Downloading tenacity-8.2.2-py3-none-any.whl (24 kB)\n",
      "Requirement already satisfied: packaging in c:\\users\\1166061\\appdata\\local\\programs\\python\\python36-32\\lib\\site-packages (from plotly>=5.0.0->dash) (21.3)\n",
      "Requirement already satisfied: dataclasses in c:\\users\\1166061\\appdata\\local\\programs\\python\\python36-32\\lib\\site-packages (from Werkzeug<3.1->dash) (0.8)\n",
      "Requirement already satisfied: idna<4,>=2.5 in c:\\users\\1166061\\appdata\\local\\programs\\python\\python36-32\\lib\\site-packages (from requests->dash) (3.4)\n",
      "Requirement already satisfied: certifi>=2017.4.17 in c:\\users\\1166061\\appdata\\local\\programs\\python\\python36-32\\lib\\site-packages (from requests->dash) (2022.12.7)\n",
      "Requirement already satisfied: charset-normalizer~=2.0.0 in c:\\users\\1166061\\appdata\\local\\programs\\python\\python36-32\\lib\\site-packages (from requests->dash) (2.0.12)\n",
      "Requirement already satisfied: urllib3<1.27,>=1.21.1 in c:\\users\\1166061\\appdata\\local\\programs\\python\\python36-32\\lib\\site-packages (from requests->dash) (1.26.14)\n",
      "Requirement already satisfied: six>=1.7.0 in c:\\users\\1166061\\appdata\\local\\programs\\python\\python36-32\\lib\\site-packages (from retrying->dash) (1.16.0)\n",
      "Requirement already satisfied: colorama in c:\\users\\1166061\\appdata\\local\\programs\\python\\python36-32\\lib\\site-packages (from click>=7.1.2->Flask<3.1,>=1.0.4->dash) (0.4.5)\n",
      "Requirement already satisfied: MarkupSafe>=2.0 in c:\\users\\1166061\\appdata\\local\\programs\\python\\python36-32\\lib\\site-packages (from Jinja2>=3.0->Flask<3.1,>=1.0.4->dash) (2.0.1)\n",
      "Requirement already satisfied: pyparsing!=3.0.5,>=2.0.2 in c:\\users\\1166061\\appdata\\local\\programs\\python\\python36-32\\lib\\site-packages (from packaging->plotly>=5.0.0->dash) (3.0.7)\n",
      "Using legacy 'setup.py install' for contextvars, since package 'wheel' is not installed.\n",
      "Building wheels for collected packages: immutables\n",
      "  Building wheel for immutables (pyproject.toml): started\n",
      "  Building wheel for immutables (pyproject.toml): finished with status 'error'\n",
      "Failed to build immutables\n"
     ]
    },
    {
     "name": "stderr",
     "output_type": "stream",
     "text": [
      "  ERROR: Command errored out with exit status 1:\n",
      "   command: 'c:\\users\\1166061\\appdata\\local\\programs\\python\\python36-32\\python.exe' 'c:\\users\\1166061\\appdata\\local\\programs\\python\\python36-32\\lib\\site-packages\\pip\\_vendor\\pep517\\in_process\\_in_process.py' build_wheel 'C:\\Users\\1166061\\AppData\\Local\\Temp\\tmpw9ooyywy'\n",
      "       cwd: C:\\Users\\1166061\\AppData\\Local\\Temp\\pip-install-kxybdv3u\\immutables_a52d4fe2a5e544d5aaeba9892ee4a124\n",
      "  Complete output (30 lines):\n",
      "  running bdist_wheel\n",
      "  running build\n",
      "  running build_py\n",
      "  creating build\n",
      "  creating build\\lib.win32-3.6\n",
      "  creating build\\lib.win32-3.6\\immutables\n",
      "  copying immutables\\map.py -> build\\lib.win32-3.6\\immutables\n",
      "  copying immutables\\_protocols.py -> build\\lib.win32-3.6\\immutables\n",
      "  copying immutables\\_testutils.py -> build\\lib.win32-3.6\\immutables\n",
      "  copying immutables\\_version.py -> build\\lib.win32-3.6\\immutables\n",
      "  copying immutables\\__init__.py -> build\\lib.win32-3.6\\immutables\n",
      "  running egg_info\n",
      "  writing immutables.egg-info\\PKG-INFO\n",
      "  writing dependency_links to immutables.egg-info\\dependency_links.txt\n",
      "  writing requirements to immutables.egg-info\\requires.txt\n",
      "  writing top-level names to immutables.egg-info\\top_level.txt\n",
      "  reading manifest file 'immutables.egg-info\\SOURCES.txt'\n",
      "  reading manifest template 'MANIFEST.in'\n",
      "  adding license file 'LICENSE'\n",
      "  adding license file 'LICENSE-APACHE'\n",
      "  adding license file 'NOTICE'\n",
      "  writing manifest file 'immutables.egg-info\\SOURCES.txt'\n",
      "  copying immutables\\_map.c -> build\\lib.win32-3.6\\immutables\n",
      "  copying immutables\\_map.h -> build\\lib.win32-3.6\\immutables\n",
      "  copying immutables\\_map.pyi -> build\\lib.win32-3.6\\immutables\n",
      "  copying immutables\\py.typed -> build\\lib.win32-3.6\\immutables\n",
      "  copying immutables\\pythoncapi_compat.h -> build\\lib.win32-3.6\\immutables\n",
      "  running build_ext\n",
      "  building 'immutables._map' extension\n",
      "  error: Microsoft Visual C++ 14.0 or greater is required. Get it with \"Microsoft C++ Build Tools\": https://visualstudio.microsoft.com/visual-cpp-build-tools/\n",
      "  ----------------------------------------\n",
      "  ERROR: Failed building wheel for immutables\n",
      "ERROR: Could not build wheels for immutables, which is required to install pyproject.toml-based projects\n"
     ]
    }
   ],
   "source": [
    "!pip install dash"
   ]
  },
  {
   "cell_type": "code",
   "execution_count": null,
   "metadata": {},
   "outputs": [
    {
     "ename": "ModuleNotFoundError",
     "evalue": "No module named 'dash'",
     "output_type": "error",
     "traceback": [
      "\u001b[1;31m---------------------------------------------------------------------------\u001b[0m\n",
      "\u001b[1;31mModuleNotFoundError\u001b[0m                       Traceback (most recent call last)\n",
      "\u001b[1;32m<ipython-input-3-5de28d7079b0>\u001b[0m in \u001b[0;36m<module>\u001b[1;34m\u001b[0m\n",
      "\u001b[1;32m----> 1\u001b[1;33m \u001b[1;32mfrom\u001b[0m \u001b[0mdash\u001b[0m \u001b[1;32mimport\u001b[0m \u001b[0mDash\u001b[0m\u001b[1;33m,\u001b[0m \u001b[0mhtml\u001b[0m\u001b[1;33m,\u001b[0m \u001b[0mdcc\u001b[0m\u001b[1;33m\u001b[0m\u001b[0m\n",
      "\u001b[0m\u001b[0;32m      2\u001b[0m \u001b[1;32mimport\u001b[0m \u001b[0mdash\u001b[0m\u001b[1;33m\u001b[0m\u001b[0m\n",
      "\u001b[0;32m      3\u001b[0m \u001b[1;32mimport\u001b[0m \u001b[0mdash_bootstrap_components\u001b[0m \u001b[1;32mas\u001b[0m \u001b[0mdbc\u001b[0m\u001b[1;33m\u001b[0m\u001b[0m\n",
      "\u001b[0;32m      4\u001b[0m \u001b[1;32mimport\u001b[0m \u001b[0mdash_auth\u001b[0m\u001b[1;33m\u001b[0m\u001b[0m\n",
      "\n",
      "\u001b[1;31mModuleNotFoundError\u001b[0m: No module named 'dash'"
     ]
    }
   ],
   "source": [
    "from dash import Dash, html, dcc\n",
    "import dash\n",
    "import dash_bootstrap_components as dbc\n",
    "import dash_auth"
   ]
  },
  {
   "cell_type": "code",
   "execution_count": null,
   "metadata": {},
   "outputs": [],
   "source": [
    "app = Dash(__name__, use_pages=True, external_stylesheets=[dbc.themes.BOOT])"
   ]
  }
 ],
 "metadata": {
  "kernelspec": {
   "display_name": "Python 3.6.6 32-bit",
   "language": "python",
   "name": "python3"
  },
  "language_info": {
   "name": "python",
   "version": "3.6.6"
  },
  "orig_nbformat": 4,
  "vscode": {
   "interpreter": {
    "hash": "662d159800d0d6be1bd3a60afcf7f1e3b43de99ad5ba84e34b560bd23984d316"
   }
  }
 },
 "nbformat": 4,
 "nbformat_minor": 2
}
