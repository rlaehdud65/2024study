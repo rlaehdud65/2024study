{
 "cells": [
  {
   "cell_type": "code",
   "execution_count": 8,
   "metadata": {},
   "outputs": [
    {
     "name": "stdout",
     "output_type": "stream",
     "text": [
      "Requirement already satisfied: selenium in c:\\users\\1166061\\appdata\\local\\programs\\python\\python36-32\\lib\\site-packages (3.141.0)\n",
      "Requirement already satisfied: urllib3 in c:\\users\\1166061\\appdata\\local\\programs\\python\\python36-32\\lib\\site-packages (from selenium) (1.26.14)\n",
      "Collecting webdriver-manager\n",
      "  Downloading webdriver_manager-3.7.1-py2.py3-none-any.whl (25 kB)\n",
      "Collecting python-dotenv\n",
      "  Downloading python_dotenv-0.20.0-py3-none-any.whl (17 kB)\n",
      "Requirement already satisfied: requests in c:\\users\\1166061\\appdata\\local\\programs\\python\\python36-32\\lib\\site-packages (from webdriver-manager) (2.27.1)\n",
      "Requirement already satisfied: idna<4,>=2.5 in c:\\users\\1166061\\appdata\\local\\programs\\python\\python36-32\\lib\\site-packages (from requests->webdriver-manager) (3.4)\n",
      "Requirement already satisfied: certifi>=2017.4.17 in c:\\users\\1166061\\appdata\\local\\programs\\python\\python36-32\\lib\\site-packages (from requests->webdriver-manager) (2022.12.7)\n",
      "Requirement already satisfied: urllib3<1.27,>=1.21.1 in c:\\users\\1166061\\appdata\\local\\programs\\python\\python36-32\\lib\\site-packages (from requests->webdriver-manager) (1.26.14)\n",
      "Requirement already satisfied: charset-normalizer~=2.0.0 in c:\\users\\1166061\\appdata\\local\\programs\\python\\python36-32\\lib\\site-packages (from requests->webdriver-manager) (2.0.12)\n",
      "Installing collected packages: python-dotenv, webdriver-manager\n",
      "Successfully installed python-dotenv-0.20.0 webdriver-manager-3.7.1\n"
     ]
    }
   ],
   "source": [
    "# !pip install selenium\n",
    "# !pip install webdriver-manager"
   ]
  },
  {
   "cell_type": "code",
   "execution_count": 31,
   "metadata": {},
   "outputs": [
    {
     "name": "stdout",
     "output_type": "stream",
     "text": [
      "Package                   Version\n",
      "------------------------- -----------\n",
      "alembic                   1.7.7\n",
      "argon2-cffi               21.3.0\n",
      "argon2-cffi-bindings      21.2.0\n",
      "async-generator           1.10\n",
      "attrs                     22.2.0\n",
      "backcall                  0.2.0\n",
      "bcrypt                    4.0.1\n",
      "beautifulsoup4            4.12.3\n",
      "bleach                    4.1.0\n",
      "bs4                       0.0.2\n",
      "certifi                   2022.12.7\n",
      "cffi                      1.15.1\n",
      "charset-normalizer        2.0.12\n",
      "click                     8.0.4\n",
      "cloudpickle               2.2.1\n",
      "colorama                  0.4.5\n",
      "cryptography              39.0.1\n",
      "cycler                    0.11.0\n",
      "databricks-cli            0.17.8\n",
      "dataclasses               0.8\n",
      "DateTime                  4.9\n",
      "decorator                 5.1.1\n",
      "defusedxml                0.7.1\n",
      "docker                    5.0.3\n",
      "entrypoints               0.4\n",
      "Flask                     2.0.3\n",
      "future                    0.18.3\n",
      "gitdb                     4.0.9\n",
      "GitPython                 3.1.18\n",
      "greenlet                  2.0.2\n",
      "html5lib                  1.1\n",
      "idna                      3.4\n",
      "importlib-metadata        4.8.3\n",
      "importlib-resources       5.4.0\n",
      "ipykernel                 5.5.6\n",
      "ipython                   7.16.3\n",
      "ipython-genutils          0.2.0\n",
      "ipywidgets                7.7.3\n",
      "itsdangerous              2.0.1\n",
      "jedi                      0.17.2\n",
      "Jinja2                    3.0.3\n",
      "joblib                    0.14.1\n",
      "jplephem                  2.18\n",
      "jsonschema                3.2.0\n",
      "jupyter                   1.0.0\n",
      "jupyter-client            7.1.2\n",
      "jupyter-console           6.4.3\n",
      "jupyter-core              4.9.2\n",
      "jupyterlab-pygments       0.1.2\n",
      "jupyterlab-widgets        1.1.2\n",
      "kiwisolver                1.3.1\n",
      "lunardate                 0.2.0\n",
      "lxml                      5.2.1\n",
      "Mako                      1.1.6\n",
      "MarkupSafe                2.0.1\n",
      "matplotlib                3.2.0\n",
      "mistune                   0.8.4\n",
      "mlflow                    1.23.1\n",
      "nbclient                  0.5.9\n",
      "nbconvert                 6.0.7\n",
      "nbformat                  5.1.3\n",
      "nest-asyncio              1.5.6\n",
      "notebook                  6.4.10\n",
      "numpy                     1.19.2\n",
      "oauthlib                  3.2.2\n",
      "packaging                 21.3\n",
      "panda                     0.3.1\n",
      "pandas                    0.25.3\n",
      "pandocfilters             1.5.0\n",
      "paramiko                  2.4.1\n",
      "parso                     0.7.1\n",
      "pickleshare               0.7.5\n",
      "pip                       21.3.1\n",
      "prometheus-client         0.16.0\n",
      "prometheus-flask-exporter 0.23.0\n",
      "prompt-toolkit            3.0.36\n",
      "protobuf                  3.19.6\n",
      "psutil                    5.9.4\n",
      "py4j                      0.10.9.5\n",
      "pyasn1                    0.4.8\n",
      "pybithumb                 1.0.21\n",
      "pyCalverter               1.6.1\n",
      "pycparser                 2.21\n",
      "Pygments                  2.14.0\n",
      "PyHive                    0.6.0\n",
      "PyJWT                     2.4.0\n",
      "pyluach                   1.4.2\n",
      "PyNaCl                    1.5.0\n",
      "pyodbc                    4.0.24\n",
      "pyparsing                 3.0.7\n",
      "pyrsistent                0.18.0\n",
      "pyspark                   3.2.4\n",
      "python-dateutil           2.8.2\n",
      "python-dotenv             0.20.0\n",
      "pytz                      2022.7.1\n",
      "pyupbit                   0.2.33\n",
      "pywin32                   227\n",
      "pywinpty                  0.5.7\n",
      "PyYAML                    6.0.1\n",
      "pyzmq                     25.0.0\n",
      "qtconsole                 5.2.2\n",
      "QtPy                      2.0.1\n",
      "querystring-parser        1.2.4\n",
      "regex                     2022.3.15\n",
      "requests                  2.27.1\n",
      "scikit-learn              0.24.2\n",
      "scipy                     1.5.4\n",
      "seaborn                   0.11.2\n",
      "selenium                  3.141.0\n",
      "Send2Trash                1.8.0\n",
      "setuptools                39.0.1\n",
      "sgp4                      2.21\n",
      "six                       1.16.0\n",
      "sklearn                   0.0\n",
      "skyfield                  1.45\n",
      "skyfield-data             4.0.0\n",
      "smmap                     5.0.0\n",
      "soupsieve                 2.3.2.post1\n",
      "soynlp                    0.0.493\n",
      "SQLAlchemy                1.4.52\n",
      "sqlparse                  0.4.4\n",
      "tabulate                  0.8.10\n",
      "terminado                 0.9.5\n",
      "testpath                  0.6.0\n",
      "threadpoolctl             3.1.0\n",
      "tornado                   6.1\n",
      "tqdm                      4.64.1\n",
      "traitlets                 4.3.3\n",
      "typing_extensions         4.1.1\n",
      "urllib3                   1.26.14\n",
      "waitress                  2.0.0\n",
      "wcwidth                   0.2.6\n",
      "webdriver-manager         3.7.1\n",
      "webencodings              0.5.1\n",
      "websocket-client          1.3.1\n",
      "websockets                9.1\n",
      "Werkzeug                  2.0.3\n",
      "widgetsnbextension        3.6.2\n",
      "workalendar               9.0.1\n",
      "zipp                      3.6.0\n",
      "zope.interface            5.5.2\n"
     ]
    }
   ],
   "source": [
    "# !pip list"
   ]
  },
  {
   "cell_type": "code",
   "execution_count": 16,
   "metadata": {},
   "outputs": [],
   "source": [
    "from selenium import webdriver\n",
    "from selenium.webdriver.common.keys import Keys\n",
    "from webdriver_manager.chrome import ChromeDriverManager\n",
    "import time\n",
    "\n",
    "from selenium import webdriver\n",
    "from selenium.webdriver.chrome.service import Service\n",
    "from selenium.webdriver.chrome.options import Options\n",
    "from selenium.webdriver.common.keys import Keys\n",
    "from selenium.webdriver.common.by import By\n",
    "import time"
   ]
  },
  {
   "cell_type": "code",
   "execution_count": null,
   "metadata": {},
   "outputs": [],
   "source": [
    "# chromedriver version : 124.0.6367.91\n",
    "# 현재 사용중인 chrome 버전에 맞게 설치\n",
    "# https://googlechromelabs.github.io/chrome-for-testing/#stable"
   ]
  },
  {
   "cell_type": "code",
   "execution_count": 37,
   "metadata": {},
   "outputs": [],
   "source": [
    "driver = webdriver.Chrome()\n",
    "driver.get('https://aip.hmc.co.kr')\n",
    "time.sleep(3)"
   ]
  },
  {
   "cell_type": "code",
   "execution_count": 111,
   "metadata": {},
   "outputs": [],
   "source": [
    "# 로그인\n",
    "login_id = driver.find_element(By.CLASS_NAME, 'ant-input')\n",
    "# login_id = driver.find_element_by_xpath('//*[@id=\"root\"]/div/div/div/div/div[2]/div/div[2]/div[1]/div[1]/form/div[1]/div/div/span/span/input')\n",
    "\n",
    "# login_password = driver.find_element(By.CLASS_NAME, 'ant-input')\n",
    "login_password = driver.find_element_by_xpath('//*[@id=\"root\"]/div/div/div/div/div[2]/div/div[2]/div[1]/div[1]/form/div[2]/div/div/span/span/input')\n",
    "\n",
    "login_click = driver.find_element(By.CLASS_NAME, 'ant-btn.login-form-button.ant-btn-primary')\n",
    "# <button type=\"submit\" class=\"ant-btn login-form-button ant-btn-primary\"><span>Log in</span></button>\n",
    "\n",
    "# # 검색어 창을 찾아 search 변수에 저장 (By.CLASS_NAME 방식)\n",
    "# search_box = driver.find_element(By.CLASS_NAME, 'gLFyf.gsfi')\n",
    "\n",
    "# # 검색어 창을 찾아 search 변수에 저장 (By.XPATH 방식)\n",
    "# search_box = driver.find_element_by_xpath('//*[@id=\"google_search\"]')"
   ]
  },
  {
   "cell_type": "code",
   "execution_count": 112,
   "metadata": {},
   "outputs": [],
   "source": [
    "# [TODO] 입력값 모두 지우는 기능 추가\n",
    "# [TODO] 세션 만료일 경우 추가\n",
    "login_id.send_keys(Keys.BACKSPACE)\n",
    "login_id.send_keys('e166061')\n",
    "login_password.send_keys(Keys.BACKSPACE)\n",
    "login_password.send_keys('Hrlaehdud1!')\n",
    "# login_id.send_keys('e680276')\n",
    "# login_password.send_keys('Qkr7019!@')\n",
    "time.sleep(1)\n",
    "login_click.click()\n",
    "# time.sleep(3)"
   ]
  },
  {
   "cell_type": "code",
   "execution_count": 113,
   "metadata": {},
   "outputs": [],
   "source": [
    "# [TODO] 로그인 오류 시 알림 기능 추가\n",
    "# [TODO] 로그인 오류 시 재로그인 기능 추가\n",
    "try:\n",
    "    login_message = driver.find_element(By.CLASS_NAME, 'ant-modal-confirm-title')\n",
    "    print(login_message.text)\n",
    "    if login_message.text:\n",
    "        driver.find_element_by_xpath('/html/body/div[2]/div/div[2]/div/div[2]/div/div/div[2]/button').click()\n",
    "except:\n",
    "    pass\n",
    "# message = '계정 또는 패스워드가 잘못되었습니다.'\n"
   ]
  },
  {
   "cell_type": "code",
   "execution_count": 114,
   "metadata": {},
   "outputs": [],
   "source": [
    "# '개발환경' 버튼 클릭\n",
    "driver.find_element_by_xpath('//*[@id=\"root\"]/div/section/aside/div[1]/ul/li[2]/a').click()\n",
    "# time.sleep(3)"
   ]
  },
  {
   "cell_type": "code",
   "execution_count": 131,
   "metadata": {},
   "outputs": [
    {
     "name": "stdout",
     "output_type": "stream",
     "text": [
      "6724\n",
      "op-ever-0430\n",
      "실행중\n",
      "<selenium.webdriver.remote.webelement.WebElement (session=\"0c09f5926d94eb3260a43ed99f359142\", element=\"f.CEBB462222D3DDC7EF330425E755F15A.d.7165CCE5433BD83D71D4C3DE59BC144B.e.31143\")>\n"
     ]
    },
    {
     "ename": "StaleElementReferenceException",
     "evalue": "Message: stale element reference: stale element not found in the current frame\n  (Session info: chrome=124.0.6367.63)\n",
     "output_type": "error",
     "traceback": [
      "\u001b[1;31m---------------------------------------------------------------------------\u001b[0m",
      "\u001b[1;31mStaleElementReferenceException\u001b[0m            Traceback (most recent call last)",
      "\u001b[1;32m<ipython-input-131-e5f139503ee2>\u001b[0m in \u001b[0;36m<module>\u001b[1;34m\u001b[0m\n\u001b[0;32m      6\u001b[0m \u001b[1;31m# print()\u001b[0m\u001b[1;33m\u001b[0m\u001b[1;33m\u001b[0m\u001b[0m\n\u001b[0;32m      7\u001b[0m \u001b[1;32mfor\u001b[0m \u001b[0mindex\u001b[0m\u001b[1;33m,\u001b[0m \u001b[0mvalue\u001b[0m \u001b[1;32min\u001b[0m \u001b[0menumerate\u001b[0m\u001b[1;33m(\u001b[0m\u001b[0mrows\u001b[0m\u001b[1;33m)\u001b[0m\u001b[1;33m:\u001b[0m\u001b[1;33m\u001b[0m\u001b[0m\n\u001b[1;32m----> 8\u001b[1;33m     \u001b[0menv_id\u001b[0m \u001b[1;33m=\u001b[0m \u001b[0mvalue\u001b[0m\u001b[1;33m.\u001b[0m\u001b[0mfind_elements_by_tag_name\u001b[0m\u001b[1;33m(\u001b[0m\u001b[1;34m'td'\u001b[0m\u001b[1;33m)\u001b[0m\u001b[1;33m[\u001b[0m\u001b[1;36m1\u001b[0m\u001b[1;33m]\u001b[0m \u001b[1;31m# 개발환경 ID\u001b[0m\u001b[1;33m\u001b[0m\u001b[0m\n\u001b[0m\u001b[0;32m      9\u001b[0m     \u001b[0menv_name\u001b[0m \u001b[1;33m=\u001b[0m \u001b[0mvalue\u001b[0m\u001b[1;33m.\u001b[0m\u001b[0mfind_elements_by_tag_name\u001b[0m\u001b[1;33m(\u001b[0m\u001b[1;34m'td'\u001b[0m\u001b[1;33m)\u001b[0m\u001b[1;33m[\u001b[0m\u001b[1;36m2\u001b[0m\u001b[1;33m]\u001b[0m \u001b[1;31m# 개발환경 명\u001b[0m\u001b[1;33m\u001b[0m\u001b[0m\n\u001b[0;32m     10\u001b[0m     \u001b[0menv_status\u001b[0m \u001b[1;33m=\u001b[0m \u001b[0mvalue\u001b[0m\u001b[1;33m.\u001b[0m\u001b[0mfind_elements_by_tag_name\u001b[0m\u001b[1;33m(\u001b[0m\u001b[1;34m'td'\u001b[0m\u001b[1;33m)\u001b[0m\u001b[1;33m[\u001b[0m\u001b[1;36m3\u001b[0m\u001b[1;33m]\u001b[0m \u001b[1;31m# 상태\u001b[0m\u001b[1;33m\u001b[0m\u001b[0m\n",
      "\u001b[1;32mc:\\Users\\1166061\\AppData\\Local\\Programs\\Python\\Python36-32\\lib\\site-packages\\selenium\\webdriver\\remote\\webelement.py\u001b[0m in \u001b[0;36mfind_elements_by_tag_name\u001b[1;34m(self, name)\u001b[0m\n\u001b[0;32m    318\u001b[0m             \u001b[0melements\u001b[0m \u001b[1;33m=\u001b[0m \u001b[0melement\u001b[0m\u001b[1;33m.\u001b[0m\u001b[0mfind_elements_by_tag_name\u001b[0m\u001b[1;33m(\u001b[0m\u001b[1;34m'h1'\u001b[0m\u001b[1;33m)\u001b[0m\u001b[1;33m\u001b[0m\u001b[0m\n\u001b[0;32m    319\u001b[0m         \"\"\"\n\u001b[1;32m--> 320\u001b[1;33m         \u001b[1;32mreturn\u001b[0m \u001b[0mself\u001b[0m\u001b[1;33m.\u001b[0m\u001b[0mfind_elements\u001b[0m\u001b[1;33m(\u001b[0m\u001b[0mby\u001b[0m\u001b[1;33m=\u001b[0m\u001b[0mBy\u001b[0m\u001b[1;33m.\u001b[0m\u001b[0mTAG_NAME\u001b[0m\u001b[1;33m,\u001b[0m \u001b[0mvalue\u001b[0m\u001b[1;33m=\u001b[0m\u001b[0mname\u001b[0m\u001b[1;33m)\u001b[0m\u001b[1;33m\u001b[0m\u001b[0m\n\u001b[0m\u001b[0;32m    321\u001b[0m \u001b[1;33m\u001b[0m\u001b[0m\n\u001b[0;32m    322\u001b[0m     \u001b[1;32mdef\u001b[0m \u001b[0mfind_element_by_xpath\u001b[0m\u001b[1;33m(\u001b[0m\u001b[0mself\u001b[0m\u001b[1;33m,\u001b[0m \u001b[0mxpath\u001b[0m\u001b[1;33m)\u001b[0m\u001b[1;33m:\u001b[0m\u001b[1;33m\u001b[0m\u001b[0m\n",
      "\u001b[1;32mc:\\Users\\1166061\\AppData\\Local\\Programs\\Python\\Python36-32\\lib\\site-packages\\selenium\\webdriver\\remote\\webelement.py\u001b[0m in \u001b[0;36mfind_elements\u001b[1;34m(self, by, value)\u001b[0m\n\u001b[0;32m    683\u001b[0m \u001b[1;33m\u001b[0m\u001b[0m\n\u001b[0;32m    684\u001b[0m         return self._execute(Command.FIND_CHILD_ELEMENTS,\n\u001b[1;32m--> 685\u001b[1;33m                              {\"using\": by, \"value\": value})['value']\n\u001b[0m\u001b[0;32m    686\u001b[0m \u001b[1;33m\u001b[0m\u001b[0m\n\u001b[0;32m    687\u001b[0m     \u001b[1;32mdef\u001b[0m \u001b[0m__hash__\u001b[0m\u001b[1;33m(\u001b[0m\u001b[0mself\u001b[0m\u001b[1;33m)\u001b[0m\u001b[1;33m:\u001b[0m\u001b[1;33m\u001b[0m\u001b[0m\n",
      "\u001b[1;32mc:\\Users\\1166061\\AppData\\Local\\Programs\\Python\\Python36-32\\lib\\site-packages\\selenium\\webdriver\\remote\\webelement.py\u001b[0m in \u001b[0;36m_execute\u001b[1;34m(self, command, params)\u001b[0m\n\u001b[0;32m    631\u001b[0m             \u001b[0mparams\u001b[0m \u001b[1;33m=\u001b[0m \u001b[1;33m{\u001b[0m\u001b[1;33m}\u001b[0m\u001b[1;33m\u001b[0m\u001b[0m\n\u001b[0;32m    632\u001b[0m         \u001b[0mparams\u001b[0m\u001b[1;33m[\u001b[0m\u001b[1;34m'id'\u001b[0m\u001b[1;33m]\u001b[0m \u001b[1;33m=\u001b[0m \u001b[0mself\u001b[0m\u001b[1;33m.\u001b[0m\u001b[0m_id\u001b[0m\u001b[1;33m\u001b[0m\u001b[0m\n\u001b[1;32m--> 633\u001b[1;33m         \u001b[1;32mreturn\u001b[0m \u001b[0mself\u001b[0m\u001b[1;33m.\u001b[0m\u001b[0m_parent\u001b[0m\u001b[1;33m.\u001b[0m\u001b[0mexecute\u001b[0m\u001b[1;33m(\u001b[0m\u001b[0mcommand\u001b[0m\u001b[1;33m,\u001b[0m \u001b[0mparams\u001b[0m\u001b[1;33m)\u001b[0m\u001b[1;33m\u001b[0m\u001b[0m\n\u001b[0m\u001b[0;32m    634\u001b[0m \u001b[1;33m\u001b[0m\u001b[0m\n\u001b[0;32m    635\u001b[0m     \u001b[1;32mdef\u001b[0m \u001b[0mfind_element\u001b[0m\u001b[1;33m(\u001b[0m\u001b[0mself\u001b[0m\u001b[1;33m,\u001b[0m \u001b[0mby\u001b[0m\u001b[1;33m=\u001b[0m\u001b[0mBy\u001b[0m\u001b[1;33m.\u001b[0m\u001b[0mID\u001b[0m\u001b[1;33m,\u001b[0m \u001b[0mvalue\u001b[0m\u001b[1;33m=\u001b[0m\u001b[1;32mNone\u001b[0m\u001b[1;33m)\u001b[0m\u001b[1;33m:\u001b[0m\u001b[1;33m\u001b[0m\u001b[0m\n",
      "\u001b[1;32mc:\\Users\\1166061\\AppData\\Local\\Programs\\Python\\Python36-32\\lib\\site-packages\\selenium\\webdriver\\remote\\webdriver.py\u001b[0m in \u001b[0;36mexecute\u001b[1;34m(self, driver_command, params)\u001b[0m\n\u001b[0;32m    319\u001b[0m         \u001b[0mresponse\u001b[0m \u001b[1;33m=\u001b[0m \u001b[0mself\u001b[0m\u001b[1;33m.\u001b[0m\u001b[0mcommand_executor\u001b[0m\u001b[1;33m.\u001b[0m\u001b[0mexecute\u001b[0m\u001b[1;33m(\u001b[0m\u001b[0mdriver_command\u001b[0m\u001b[1;33m,\u001b[0m \u001b[0mparams\u001b[0m\u001b[1;33m)\u001b[0m\u001b[1;33m\u001b[0m\u001b[0m\n\u001b[0;32m    320\u001b[0m         \u001b[1;32mif\u001b[0m \u001b[0mresponse\u001b[0m\u001b[1;33m:\u001b[0m\u001b[1;33m\u001b[0m\u001b[0m\n\u001b[1;32m--> 321\u001b[1;33m             \u001b[0mself\u001b[0m\u001b[1;33m.\u001b[0m\u001b[0merror_handler\u001b[0m\u001b[1;33m.\u001b[0m\u001b[0mcheck_response\u001b[0m\u001b[1;33m(\u001b[0m\u001b[0mresponse\u001b[0m\u001b[1;33m)\u001b[0m\u001b[1;33m\u001b[0m\u001b[0m\n\u001b[0m\u001b[0;32m    322\u001b[0m             response['value'] = self._unwrap_value(\n\u001b[0;32m    323\u001b[0m                 response.get('value', None))\n",
      "\u001b[1;32mc:\\Users\\1166061\\AppData\\Local\\Programs\\Python\\Python36-32\\lib\\site-packages\\selenium\\webdriver\\remote\\errorhandler.py\u001b[0m in \u001b[0;36mcheck_response\u001b[1;34m(self, response)\u001b[0m\n\u001b[0;32m    240\u001b[0m                 \u001b[0malert_text\u001b[0m \u001b[1;33m=\u001b[0m \u001b[0mvalue\u001b[0m\u001b[1;33m[\u001b[0m\u001b[1;34m'alert'\u001b[0m\u001b[1;33m]\u001b[0m\u001b[1;33m.\u001b[0m\u001b[0mget\u001b[0m\u001b[1;33m(\u001b[0m\u001b[1;34m'text'\u001b[0m\u001b[1;33m)\u001b[0m\u001b[1;33m\u001b[0m\u001b[0m\n\u001b[0;32m    241\u001b[0m             \u001b[1;32mraise\u001b[0m \u001b[0mexception_class\u001b[0m\u001b[1;33m(\u001b[0m\u001b[0mmessage\u001b[0m\u001b[1;33m,\u001b[0m \u001b[0mscreen\u001b[0m\u001b[1;33m,\u001b[0m \u001b[0mstacktrace\u001b[0m\u001b[1;33m,\u001b[0m \u001b[0malert_text\u001b[0m\u001b[1;33m)\u001b[0m\u001b[1;33m\u001b[0m\u001b[0m\n\u001b[1;32m--> 242\u001b[1;33m         \u001b[1;32mraise\u001b[0m \u001b[0mexception_class\u001b[0m\u001b[1;33m(\u001b[0m\u001b[0mmessage\u001b[0m\u001b[1;33m,\u001b[0m \u001b[0mscreen\u001b[0m\u001b[1;33m,\u001b[0m \u001b[0mstacktrace\u001b[0m\u001b[1;33m)\u001b[0m\u001b[1;33m\u001b[0m\u001b[0m\n\u001b[0m\u001b[0;32m    243\u001b[0m \u001b[1;33m\u001b[0m\u001b[0m\n\u001b[0;32m    244\u001b[0m     \u001b[1;32mdef\u001b[0m \u001b[0m_value_or_default\u001b[0m\u001b[1;33m(\u001b[0m\u001b[0mself\u001b[0m\u001b[1;33m,\u001b[0m \u001b[0mobj\u001b[0m\u001b[1;33m,\u001b[0m \u001b[0mkey\u001b[0m\u001b[1;33m,\u001b[0m \u001b[0mdefault\u001b[0m\u001b[1;33m)\u001b[0m\u001b[1;33m:\u001b[0m\u001b[1;33m\u001b[0m\u001b[0m\n",
      "\u001b[1;31mStaleElementReferenceException\u001b[0m: Message: stale element reference: stale element not found in the current frame\n  (Session info: chrome=124.0.6367.63)\n"
     ]
    }
   ],
   "source": [
    "table = driver.find_element(By.CLASS_NAME, 'ant-table-body')\n",
    "# print(table.text)\n",
    "tbody = table.find_element_by_tag_name('tbody')\n",
    "# print(tbody.text)\n",
    "rows = tbody.find_elements_by_tag_name('tr')\n",
    "# print()\n",
    "for index, value in enumerate(rows):\n",
    "    env_id = value.find_elements_by_tag_name('td')[1] # 개발환경 ID\n",
    "    env_name = value.find_elements_by_tag_name('td')[2] # 개발환경 명\n",
    "    env_status = value.find_elements_by_tag_name('td')[3] # 상태\n",
    "    print(env_id.text)\n",
    "    print(env_name.text)\n",
    "    print(env_status.text)\n",
    "    href = value.find_elements_by_tag_name('td')[1].find_element_by_tag_name('a')\n",
    "    # //*[@id=\"root\"]/div/section/section/main/div[5]/div[4]/div/div/div/div/div/div/div/table/tbody/tr[1]/td[2]/a\n",
    "    href.click()\n",
    "    print(href)\n",
    "\n",
    "\n",
    "# <a href=\"/Deploy/Detail\">6687</a>"
   ]
  },
  {
   "cell_type": "code",
   "execution_count": 134,
   "metadata": {},
   "outputs": [
    {
     "name": "stdout",
     "output_type": "stream",
     "text": [
      "2024. 4. 30. 오전 9:27:09\n"
     ]
    }
   ],
   "source": [
    "# 개발환경 상세 페이지\n",
    "\n",
    "# 시작 시간 파싱\n",
    "from datetime import datetime\n",
    "start_time = driver.find_element_by_xpath('//*[@id=\"root\"]/div/section/section/main/div[4]/div[2]/div[1]/div/div/div/div/div[3]/div[1]/div[3]/div[2]/table/tbody/tr[5]/td[1]').text\n",
    "print(start_time)\n",
    "#  start_time = datetime.strptime(start_time, '%Y')"
   ]
  },
  {
   "cell_type": "code",
   "execution_count": null,
   "metadata": {},
   "outputs": [],
   "source": [
    "# 개발환경 복제"
   ]
  },
  {
   "cell_type": "code",
   "execution_count": null,
   "metadata": {},
   "outputs": [],
   "source": [
    "\n",
    "<tbody class=\"ant-table-tbody\"><tr class=\"ant-table-row ant-table-row-level-0\" data-row-key=\"6724\"><td class=\"\"><label class=\"ant-checkbox-wrapper\"><span class=\"ant-checkbox\"><input type=\"checkbox\" class=\"ant-checkbox-input\" value=\"[object Object]\"><span class=\"ant-checkbox-inner\"></span></span></label></td><td class=\"ant-table-column-has-actions ant-table-column-has-sorters ant-table-column-sort\" style=\"text-align: center;\"><a href=\"/Deploy/Detail\">6724</a></td><td class=\"\" style=\"text-align: center;\">op-ever-0430</td><td class=\"\" style=\"text-align: center;\"><span class=\"ant-badge ant-badge-status ant-badge-not-a-wrapper\"><span class=\"ant-badge-status-dot ant-badge-status-green\"></span><span class=\"ant-badge-status-text\"></span></span>실행중</td><td class=\"\" style=\"text-align: center;\">10.12.54.209</td><td class=\"\" style=\"text-align: center;\"><div>8000 =&gt;<a href=\"http://10.12.54.209:30490\" target=\"_blank\">30490</a></div><div>8080 =&gt;<a href=\"http://10.12.54.209:30154\" target=\"_blank\">30154</a></div><div>22 =&gt;<a href=\"http://10.12.54.209:30006\" target=\"_blank\">30006</a></div><div>8010 =&gt;<a href=\"http://10.12.54.209:31427\" target=\"_blank\">31427</a></div><div>4040 =&gt;<a href=\"http://10.12.54.209:31989\" target=\"_blank\">31989</a></div><div>4041 =&gt;<a href=\"http://10.12.54.209:31050\" target=\"_blank\">31050</a></div><div>8030 =&gt;<a href=\"http://10.12.54.209:30224\" target=\"_blank\">30224</a></div><div>8888 =&gt;<a href=\"http://10.12.54.209:31164\" target=\"_blank\">31164</a></div><div>8889 =&gt;<a href=\"http://10.12.54.209:30883\" target=\"_blank\">30883</a></div><div>8020 =&gt;<a href=\"http://10.12.54.209:30793\" target=\"_blank\">30793</a></div><div>5432 =&gt;<a href=\"http://10.12.54.209:31481\" target=\"_blank\">31481</a></div></td><td class=\"\" style=\"text-align: center;\">https://ai-harbor.hmc.co.kr/customer-experience-analyze/di-csmr-anl:v1.0.1</td><td class=\"\" style=\"text-align: center;\"><div class=\"ant-list ant-list-sm ant-list-split\"><div class=\"ant-list-header\"><div>공용 자원</div></div><div class=\"ant-spin-nested-loading\"><div class=\"ant-spin-container\"><ul class=\"ant-list-items\"><div><li class=\"ant-list-item ant-list-item-no-flex\">HOST : ai-cpu014(10.12.54.209) </li><li class=\"ant-list-item ant-list-item-no-flex\">CPU : 32 cores</li><li class=\"ant-list-item ant-list-item-no-flex\">Memory : 64 GiB</li></div></ul></div></div></div></td><td class=\"\" style=\"text-align: center;\"><div>CPU</div></td><td class=\"\" style=\"text-align: center;\"><div>7일</div></td><td class=\"\" style=\"text-align: center;\"><div> 김도영 (e166061)</div></td></tr><tr class=\"ant-table-row ant-table-row-level-0\" data-row-key=\"6687\"><td class=\"\"><label class=\"ant-checkbox-wrapper\"><span class=\"ant-checkbox\"><input type=\"checkbox\" class=\"ant-checkbox-input\" value=\"[object Object]\"><span class=\"ant-checkbox-inner\"></span></span></label></td><td class=\"ant-table-column-has-actions ant-table-column-has-sorters ant-table-column-sort\" style=\"text-align: center;\"><a href=\"/Deploy/Detail\">6687</a></td><td class=\"\" style=\"text-align: center;\">op-ever-0426</td><td class=\"\" style=\"text-align: center;\"><span class=\"ant-badge ant-badge-status ant-badge-not-a-wrapper\"><span class=\"ant-badge-status-dot ant-badge-status-green\"></span><span class=\"ant-badge-status-text\"></span></span>실행중</td><td class=\"\" style=\"text-align: center;\">10.12.54.211</td><td class=\"\" style=\"text-align: center;\"><div>8000 =&gt;<a href=\"http://10.12.54.211:31834\" target=\"_blank\">31834</a></div><div>8080 =&gt;<a href=\"http://10.12.54.211:31463\" target=\"_blank\">31463</a></div><div>22 =&gt;<a href=\"http://10.12.54.211:30028\" target=\"_blank\">30028</a></div><div>8010 =&gt;<a href=\"http://10.12.54.211:31269\" target=\"_blank\">31269</a></div><div>4040 =&gt;<a href=\"http://10.12.54.211:30633\" target=\"_blank\">30633</a></div><div>4041 =&gt;<a href=\"http://10.12.54.211:30940\" target=\"_blank\">30940</a></div><div>8030 =&gt;<a href=\"http://10.12.54.211:30514\" target=\"_blank\">30514</a></div><div>8020 =&gt;<a href=\"http://10.12.54.211:31900\" target=\"_blank\">31900</a></div><div>5432 =&gt;<a href=\"http://10.12.54.211:31101\" target=\"_blank\">31101</a></div></td><td class=\"\" style=\"text-align: center;\">https://ai-harbor.hmc.co.kr/customer-experience-analyze/di-csmr-anl:v1.0.1</td><td class=\"\" style=\"text-align: center;\"><div class=\"ant-list ant-list-sm ant-list-split\"><div class=\"ant-list-header\"><div>공용 자원</div></div><div class=\"ant-spin-nested-loading\"><div class=\"ant-spin-container\"><ul class=\"ant-list-items\"><div><li class=\"ant-list-item ant-list-item-no-flex\">HOST : ai-cpu016(10.12.54.211) </li><li class=\"ant-list-item ant-list-item-no-flex\">CPU : 32 cores</li><li class=\"ant-list-item ant-list-item-no-flex\">Memory : 64 GiB</li></div></ul></div></div></div></td><td class=\"\" style=\"text-align: center;\"><div>CPU</div></td><td class=\"\" style=\"text-align: center;\"><div>7일</div></td><td class=\"\" style=\"text-align: center;\"><div> 김도영 (e166061)</div></td></tr><tr class=\"ant-table-row ant-table-row-level-0\" data-row-key=\"6686\"><td class=\"\"><label class=\"ant-checkbox-wrapper\"><span class=\"ant-checkbox\"><input type=\"checkbox\" class=\"ant-checkbox-input\" value=\"[object Object]\"><span class=\"ant-checkbox-inner\"></span></span></label></td><td class=\"ant-table-column-has-actions ant-table-column-has-sorters ant-table-column-sort\" style=\"text-align: center;\"><a href=\"/Deploy/Detail\">6686</a></td><td class=\"\" style=\"text-align: center;\">dev-ever-0426</td><td class=\"\" style=\"text-align: center;\"><span class=\"ant-badge ant-badge-status ant-badge-not-a-wrapper\"><span class=\"ant-badge-status-dot ant-badge-status-green\"></span><span class=\"ant-badge-status-text\"></span></span>실행중</td><td class=\"\" style=\"text-align: center;\">10.12.54.211</td><td class=\"\" style=\"text-align: center;\"><div>8000 =&gt;<a href=\"http://10.12.54.211:31863\" target=\"_blank\">31863</a></div><div>8080 =&gt;<a href=\"http://10.12.54.211:30137\" target=\"_blank\">30137</a></div><div>22 =&gt;<a href=\"http://10.12.54.211:30019\" target=\"_blank\">30019</a></div><div>8010 =&gt;<a href=\"http://10.12.54.211:31102\" target=\"_blank\">31102</a></div><div>4040 =&gt;<a href=\"http://10.12.54.211:30863\" target=\"_blank\">30863</a></div><div>4041 =&gt;<a href=\"http://10.12.54.211:30655\" target=\"_blank\">30655</a></div><div>8030 =&gt;<a href=\"http://10.12.54.211:31812\" target=\"_blank\">31812</a></div><div>8888 =&gt;<a href=\"http://10.12.54.211:30560\" target=\"_blank\">30560</a></div><div>8889 =&gt;<a href=\"http://10.12.54.211:30478\" target=\"_blank\">30478</a></div><div>8020 =&gt;<a href=\"http://10.12.54.211:30675\" target=\"_blank\">30675</a></div><div>5432 =&gt;<a href=\"http://10.12.54.211:31816\" target=\"_blank\">31816</a></div></td><td class=\"\" style=\"text-align: center;\">https://ai-harbor.hmc.co.kr/customer-experience-analyze/di-csmr-anl:v1.0.1</td><td class=\"\" style=\"text-align: center;\"><div class=\"ant-list ant-list-sm ant-list-split\"><div class=\"ant-list-header\"><div>공용 자원</div></div><div class=\"ant-spin-nested-loading\"><div class=\"ant-spin-container\"><ul class=\"ant-list-items\"><div><li class=\"ant-list-item ant-list-item-no-flex\">HOST : ai-cpu016(10.12.54.211) </li><li class=\"ant-list-item ant-list-item-no-flex\">CPU : 32 cores</li><li class=\"ant-list-item ant-list-item-no-flex\">Memory : 64 GiB</li></div></ul></div></div></div></td><td class=\"\" style=\"text-align: center;\"><div>CPU</div></td><td class=\"\" style=\"text-align: center;\"><div>7일</div></td><td class=\"\" style=\"text-align: center;\"><div> 김도영 (e166061)</div></td></tr><tr class=\"ant-table-row ant-table-row-level-0\" data-row-key=\"6685\"><td class=\"\"><label class=\"ant-checkbox-wrapper\"><span class=\"ant-checkbox\"><input type=\"checkbox\" class=\"ant-checkbox-input\" value=\"[object Object]\"><span class=\"ant-checkbox-inner\"></span></span></label></td><td class=\"ant-table-column-has-actions ant-table-column-has-sorters ant-table-column-sort\" style=\"text-align: center;\"><a href=\"/Deploy/Detail\">6685</a></td><td class=\"\" style=\"text-align: center;\">opt-yj-240426</td><td class=\"\" style=\"text-align: center;\"><span class=\"ant-badge ant-badge-status ant-badge-not-a-wrapper\"><span class=\"ant-badge-status-dot ant-badge-status-green\"></span><span class=\"ant-badge-status-text\"></span></span>실행중</td><td class=\"\" style=\"text-align: center;\">10.12.54.58</td><td class=\"\" style=\"text-align: center;\"><div>22 =&gt;<a href=\"http://10.12.54.58:30090\" target=\"_blank\">30090</a></div><div>8000 =&gt;<a href=\"http://10.12.54.58:30650\" target=\"_blank\">30650</a></div><div>8010 =&gt;<a href=\"http://10.12.54.58:31919\" target=\"_blank\">31919</a></div><div>8020 =&gt;<a href=\"http://10.12.54.58:31701\" target=\"_blank\">31701</a></div><div>8030 =&gt;<a href=\"http://10.12.54.58:30408\" target=\"_blank\">30408</a></div><div>8040 =&gt;<a href=\"http://10.12.54.58:30544\" target=\"_blank\">30544</a></div><div>5432 =&gt;<a href=\"http://10.12.54.58:30961\" target=\"_blank\">30961</a></div></td><td class=\"\" style=\"text-align: center;\">https://ai-harbor.hmc.co.kr/customer-experience-analyze/di-csmr-anl:v1.0.1</td><td class=\"\" style=\"text-align: center;\"><div class=\"ant-list ant-list-sm ant-list-split\"><div class=\"ant-list-header\"><div>공용 자원</div></div><div class=\"ant-spin-nested-loading\"><div class=\"ant-spin-container\"><ul class=\"ant-list-items\"><div><li class=\"ant-list-item ant-list-item-no-flex\">HOST : ai-dev001(10.12.54.58) </li><li class=\"ant-list-item ant-list-item-no-flex\">GPU : T4 / 1 SLOTS</li><li class=\"ant-list-item ant-list-item-no-flex\">CPU : 8 cores</li><li class=\"ant-list-item ant-list-item-no-flex\">Memory : 60 GiB</li></div></ul></div></div></div></td><td class=\"\" style=\"text-align: center;\"><div>GPU</div></td><td class=\"\" style=\"text-align: center;\"><div>7일</div></td><td class=\"\" style=\"text-align: center;\"><div> 김도영 (e166061)</div></td></tr><tr class=\"ant-table-row ant-table-row-level-0\" data-row-key=\"6587\"><td class=\"\"><label class=\"ant-checkbox-wrapper\"><span class=\"ant-checkbox\"><input type=\"checkbox\" class=\"ant-checkbox-input\" value=\"[object Object]\"><span class=\"ant-checkbox-inner\"></span></span></label></td><td class=\"ant-table-column-has-actions ant-table-column-has-sorters ant-table-column-sort\" style=\"text-align: center;\"><a href=\"/Deploy/Detail\">6587</a></td><td class=\"\" style=\"text-align: center;\">op-ever-0423</td><td class=\"\" style=\"text-align: center;\"><span class=\"ant-badge ant-badge-status ant-badge-not-a-wrapper\"><span class=\"ant-badge-status-dot ant-badge-status-green\"></span><span class=\"ant-badge-status-text\"></span></span>실행중</td><td class=\"\" style=\"text-align: center;\">10.12.54.209</td><td class=\"\" style=\"text-align: center;\"><div>8000 =&gt;<a href=\"http://10.12.54.209:30710\" target=\"_blank\">30710</a></div><div>8080 =&gt;<a href=\"http://10.12.54.209:31574\" target=\"_blank\">31574</a></div><div>22 =&gt;<a href=\"http://10.12.54.209:30081\" target=\"_blank\">30081</a></div><div>8010 =&gt;<a href=\"http://10.12.54.209:31453\" target=\"_blank\">31453</a></div><div>4040 =&gt;<a href=\"http://10.12.54.209:30797\" target=\"_blank\">30797</a></div><div>4041 =&gt;<a href=\"http://10.12.54.209:31228\" target=\"_blank\">31228</a></div><div>8030 =&gt;<a href=\"http://10.12.54.209:30864\" target=\"_blank\">30864</a></div><div>8888 =&gt;<a href=\"http://10.12.54.209:31683\" target=\"_blank\">31683</a></div><div>8889 =&gt;<a href=\"http://10.12.54.209:31953\" target=\"_blank\">31953</a></div><div>8020 =&gt;<a href=\"http://10.12.54.209:30601\" target=\"_blank\">30601</a></div><div>5432 =&gt;<a href=\"http://10.12.54.209:31570\" target=\"_blank\">31570</a></div></td><td class=\"\" style=\"text-align: center;\">https://ai-harbor.hmc.co.kr/customer-experience-analyze/di-csmr-anl:v1.0.1</td><td class=\"\" style=\"text-align: center;\"><div class=\"ant-list ant-list-sm ant-list-split\"><div class=\"ant-list-header\"><div>공용 자원</div></div><div class=\"ant-spin-nested-loading\"><div class=\"ant-spin-container\"><ul class=\"ant-list-items\"><div><li class=\"ant-list-item ant-list-item-no-flex\">HOST : ai-cpu014(10.12.54.209) </li><li class=\"ant-list-item ant-list-item-no-flex\">CPU : 32 cores</li><li class=\"ant-list-item ant-list-item-no-flex\">Memory : 64 GiB</li></div></ul></div></div></div></td><td class=\"\" style=\"text-align: center;\"><div>CPU</div></td><td class=\"\" style=\"text-align: center;\"><div>7일</div></td><td class=\"\" style=\"text-align: center;\"><div> 김도영 (e166061)</div></td></tr></tbody>\n",
    "\n",
    "//*[@id=\"root\"]/div/section/section/main/div[4]/div[4]/div/div/div/div/div/div/div/table"
   ]
  }
 ],
 "metadata": {
  "kernelspec": {
   "display_name": "Python 3.6.6 32-bit",
   "language": "python",
   "name": "python3"
  },
  "language_info": {
   "codemirror_mode": {
    "name": "ipython",
    "version": 3
   },
   "file_extension": ".py",
   "mimetype": "text/x-python",
   "name": "python",
   "nbconvert_exporter": "python",
   "pygments_lexer": "ipython3",
   "version": "3.6.6"
  },
  "orig_nbformat": 4,
  "vscode": {
   "interpreter": {
    "hash": "662d159800d0d6be1bd3a60afcf7f1e3b43de99ad5ba84e34b560bd23984d316"
   }
  }
 },
 "nbformat": 4,
 "nbformat_minor": 2
}
